{
 "cells": [
  {
   "cell_type": "markdown",
   "metadata": {},
   "source": [
    "## This notebook shows a simple way in Python to convert an xml file to json using the xmltodict package"
   ]
  },
  {
   "cell_type": "code",
   "execution_count": 1,
   "metadata": {},
   "outputs": [],
   "source": [
    "import xml.etree.ElementTree as ET\n",
    "import xmltodict\n",
    "import json"
   ]
  },
  {
   "cell_type": "markdown",
   "metadata": {},
   "source": [
    "Step 1: read the xml text from a file"
   ]
  },
  {
   "cell_type": "code",
   "execution_count": 19,
   "metadata": {},
   "outputs": [
    {
     "name": "stdout",
     "output_type": "stream",
     "text": [
      "<?xml version=\"1.0\" encoding=\"UTF-8\"?>\n",
      "<!DOCTYPE library SYSTEM \"library.dtd\">\n",
      "<library location=\"Bremen\">\n",
      "\t<author name=\"Henry Wise\">\n",
      "\t   <book title=\"Artificial Intelligence\"/>\n",
      "\t   <book title=\"Modern Web Services\"/>\n",
      "\t   <book title=\"Theory of Computation\"/>\n",
      "\t</author>\n",
      "\t<author name=\"William Smart\">\n",
      "\t\t<book title=\"Artificial Intelligence\"/>\n",
      "\t</author>\n",
      "\t<author name=\"Cynthia Singleton\">\n",
      "\t   <book title=\"The Semantic Web\"/>\n",
      "\t   <book title=\"Browser Technology Revised\"/>\n",
      "\t</author>\n",
      "</library>\n",
      "\n"
     ]
    }
   ],
   "source": [
    "xml_string = open('library/library.xml').read()\n",
    "#xml_string = open('expenseReport/expenses.xml').read()\n",
    "print(xml_string)"
   ]
  },
  {
   "cell_type": "markdown",
   "metadata": {},
   "source": [
    "Step 2: use sxmtojson to convert it to a Python dict"
   ]
  },
  {
   "cell_type": "code",
   "execution_count": 20,
   "metadata": {},
   "outputs": [
    {
     "name": "stdout",
     "output_type": "stream",
     "text": [
      "OrderedDict([('library', OrderedDict([('@location', 'Bremen'), ('author', [OrderedDict([('@name', 'Henry Wise'), ('book', [OrderedDict([('@title', 'Artificial Intelligence')]), OrderedDict([('@title', 'Modern Web Services')]), OrderedDict([('@title', 'Theory of Computation')])])]), OrderedDict([('@name', 'William Smart'), ('book', OrderedDict([('@title', 'Artificial Intelligence')]))]), OrderedDict([('@name', 'Cynthia Singleton'), ('book', [OrderedDict([('@title', 'The Semantic Web')]), OrderedDict([('@title', 'Browser Technology Revised')])])])])]))])\n"
     ]
    }
   ],
   "source": [
    "xml_dict = xmltodict.parse(xml_string)\n",
    "print(xml_dict)"
   ]
  },
  {
   "cell_type": "markdown",
   "metadata": {},
   "source": [
    "Step 3: use the json package to convert the dict to a python json object"
   ]
  },
  {
   "cell_type": "code",
   "execution_count": 21,
   "metadata": {},
   "outputs": [
    {
     "name": "stdout",
     "output_type": "stream",
     "text": [
      "{'library': {'@location': 'Bremen', 'author': [{'@name': 'Henry Wise', 'book': [{'@title': 'Artificial Intelligence'}, {'@title': 'Modern Web Services'}, {'@title': 'Theory of Computation'}]}, {'@name': 'William Smart', 'book': {'@title': 'Artificial Intelligence'}}, {'@name': 'Cynthia Singleton', 'book': [{'@title': 'The Semantic Web'}, {'@title': 'Browser Technology Revised'}]}]}}\n"
     ]
    }
   ],
   "source": [
    "xml_json = json.loads(json.dumps(xml_dict))\n",
    "print(xml_json)"
   ]
  },
  {
   "cell_type": "markdown",
   "metadata": {},
   "source": [
    "Step 5: see what it's native json format looks like pretty printed"
   ]
  },
  {
   "cell_type": "code",
   "execution_count": 22,
   "metadata": {},
   "outputs": [
    {
     "name": "stdout",
     "output_type": "stream",
     "text": [
      "{\n",
      "  \"library\": {\n",
      "    \"@location\": \"Bremen\",\n",
      "    \"author\": [\n",
      "      {\n",
      "        \"@name\": \"Henry Wise\",\n",
      "        \"book\": [\n",
      "          {\n",
      "            \"@title\": \"Artificial Intelligence\"\n",
      "          },\n",
      "          {\n",
      "            \"@title\": \"Modern Web Services\"\n",
      "          },\n",
      "          {\n",
      "            \"@title\": \"Theory of Computation\"\n",
      "          }\n",
      "        ]\n",
      "      },\n",
      "      {\n",
      "        \"@name\": \"William Smart\",\n",
      "        \"book\": {\n",
      "          \"@title\": \"Artificial Intelligence\"\n",
      "        }\n",
      "      },\n",
      "      {\n",
      "        \"@name\": \"Cynthia Singleton\",\n",
      "        \"book\": [\n",
      "          {\n",
      "            \"@title\": \"The Semantic Web\"\n",
      "          },\n",
      "          {\n",
      "            \"@title\": \"Browser Technology Revised\"\n",
      "          }\n",
      "        ]\n",
      "      }\n",
      "    ]\n",
      "  }\n",
      "}\n"
     ]
    }
   ],
   "source": [
    "print(json.dumps(xml_json, indent=2))"
   ]
  },
  {
   "cell_type": "markdown",
   "metadata": {},
   "source": [
    "The package prefixes properties that started out as XML attributes with an '@' and an element's text is given the property name #text.  One reason for this is that the package also has a method to convert a dict back to XML.  If we don't like these defaults, we can change them by passing addional arguments to the xmltodict parse method. We can also include an optional argument to process namespaces."
   ]
  },
  {
   "cell_type": "code",
   "execution_count": 25,
   "metadata": {},
   "outputs": [],
   "source": [
    "def xml2json (infile, attr='', ns=True):\n",
    "    \"\"\"returns a python json object created from the contents of an xml file\"\"\"\n",
    "    return json.loads(json.dumps(xmltodict.parse(open(infile).read(), attr_prefix=attr, process_namespaces=ns )))"
   ]
  },
  {
   "cell_type": "code",
   "execution_count": 26,
   "metadata": {},
   "outputs": [
    {
     "name": "stdout",
     "output_type": "stream",
     "text": [
      "{\n",
      "  \"library\": {\n",
      "    \"location\": \"Bremen\",\n",
      "    \"author\": [\n",
      "      {\n",
      "        \"name\": \"Henry Wise\",\n",
      "        \"book\": [\n",
      "          {\n",
      "            \"title\": \"Artificial Intelligence\"\n",
      "          },\n",
      "          {\n",
      "            \"title\": \"Modern Web Services\"\n",
      "          },\n",
      "          {\n",
      "            \"title\": \"Theory of Computation\"\n",
      "          }\n",
      "        ]\n",
      "      },\n",
      "      {\n",
      "        \"name\": \"William Smart\",\n",
      "        \"book\": {\n",
      "          \"title\": \"Artificial Intelligence\"\n",
      "        }\n",
      "      },\n",
      "      {\n",
      "        \"name\": \"Cynthia Singleton\",\n",
      "        \"book\": [\n",
      "          {\n",
      "            \"title\": \"The Semantic Web\"\n",
      "          },\n",
      "          {\n",
      "            \"title\": \"Browser Technology Revised\"\n",
      "          }\n",
      "        ]\n",
      "      }\n",
      "    ]\n",
      "  }\n",
      "}\n"
     ]
    }
   ],
   "source": [
    "print(json.dumps(xml2json('library/library.xml'), indent=2))"
   ]
  },
  {
   "cell_type": "markdown",
   "metadata": {},
   "source": [
    "Let's look at a more complex xml example with attributes, entity values and namespaces"
   ]
  },
  {
   "cell_type": "code",
   "execution_count": 27,
   "metadata": {},
   "outputs": [
    {
     "name": "stdout",
     "output_type": "stream",
     "text": [
      "{\n",
      "  \"expense-report\": {\n",
      "    \"http://www.w3.org/2001/XMLSchema-instance:noNamespaceSchemaLocation\": \"ExpReport.xsd\",\n",
      "    \"currency\": \"USD\",\n",
      "    \"detailed\": \"false\",\n",
      "    \"total-sum\": \"556.9\",\n",
      "    \"xmlns\": {\n",
      "      \"xsi\": \"http://www.w3.org/2001/XMLSchema-instance\"\n",
      "    },\n",
      "    \"Person\": {\n",
      "      \"First\": \"Fred\",\n",
      "      \"Last\": \"Landis\",\n",
      "      \"Title\": \"Project Manager\",\n",
      "      \"Phone\": \"123-456-7890\",\n",
      "      \"Email\": \"f.landis@nanonull.com\"\n",
      "    },\n",
      "    \"expense-item\": [\n",
      "      {\n",
      "        \"type\": \"Lodging\",\n",
      "        \"expto\": \"Sales\",\n",
      "        \"Date\": \"2003-01-01\",\n",
      "        \"expense\": \"122.11\"\n",
      "      },\n",
      "      {\n",
      "        \"type\": \"Lodging\",\n",
      "        \"expto\": \"Development\",\n",
      "        \"Date\": \"2003-01-02\",\n",
      "        \"expense\": \"122.12\",\n",
      "        \"description\": \"Played penny arcade\"\n",
      "      },\n",
      "      {\n",
      "        \"type\": \"Lodging\",\n",
      "        \"expto\": \"Marketing\",\n",
      "        \"Date\": \"2003-01-02\",\n",
      "        \"expense\": \"299.45\",\n",
      "        \"description\": \"Treated Clients\"\n",
      "      },\n",
      "      {\n",
      "        \"type\": \"Entertainment\",\n",
      "        \"expto\": \"Development\",\n",
      "        \"Date\": \"2003-01-02\",\n",
      "        \"expense\": \"13.22\",\n",
      "        \"Misc\": {\n",
      "          \"misctype\": \"TeamBuilding\"\n",
      "        },\n",
      "        \"description\": \"Bought signed \\\"XMLSPY Handbook\\\" from Larry Kim\"\n",
      "      }\n",
      "    ]\n",
      "  }\n",
      "}\n"
     ]
    }
   ],
   "source": [
    "print(json.dumps(xml2json('expenseReport/expenses.xml'), indent=2))"
   ]
  }
 ],
 "metadata": {
  "kernelspec": {
   "display_name": "Python 3",
   "language": "python",
   "name": "python3"
  },
  "language_info": {
   "codemirror_mode": {
    "name": "ipython",
    "version": 3
   },
   "file_extension": ".py",
   "mimetype": "text/x-python",
   "name": "python",
   "nbconvert_exporter": "python",
   "pygments_lexer": "ipython3",
   "version": "3.7.0"
  }
 },
 "nbformat": 4,
 "nbformat_minor": 2
}
