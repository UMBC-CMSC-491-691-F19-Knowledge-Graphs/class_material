{
 "cells": [
  {
   "cell_type": "markdown",
   "metadata": {},
   "source": [
    "### The Python xml package has many tools for working with XML data and partial support for XPATH. There are other xml packages that are more powerful, but also more complex"
   ]
  },
  {
   "cell_type": "code",
   "execution_count": 11,
   "metadata": {},
   "outputs": [],
   "source": [
    "import xml.etree.ElementTree as ET"
   ]
  },
  {
   "cell_type": "markdown",
   "metadata": {},
   "source": [
    "read the simple book example used in the notes and SWP"
   ]
  },
  {
   "cell_type": "code",
   "execution_count": 12,
   "metadata": {},
   "outputs": [],
   "source": [
    "library_data = ET.parse('library/library.xml')"
   ]
  },
  {
   "cell_type": "markdown",
   "metadata": {},
   "source": [
    "What does its string representation look like?"
   ]
  },
  {
   "cell_type": "code",
   "execution_count": 3,
   "metadata": {},
   "outputs": [
    {
     "data": {
      "text/plain": [
       "b'<library location=\"Bremen\">\\n\\t<author name=\"Henry Wise\">\\n\\t   <book title=\"Artificial Intelligence\" />\\n\\t   <book title=\"Modern Web Services\" />\\n\\t   <book title=\"Theory of Computation\" />\\n\\t</author>\\n\\t<author name=\"William Smart\">\\n\\t\\t<book title=\"Artificial Intelligence\" />\\n\\t</author>\\n\\t<author name=\"Cynthia Singleton\">\\n\\t   <book title=\"The Semantic Web\" />\\n\\t   <book title=\"Browser Technology Revised\" />\\n\\t</author>\\n</library>'"
      ]
     },
     "execution_count": 3,
     "metadata": {},
     "output_type": "execute_result"
    }
   ],
   "source": [
    "root = library_data.getroot()\n",
    "ET.tostring(root)"
   ]
  },
  {
   "cell_type": "markdown",
   "metadata": {},
   "source": [
    "we can easily access its parts"
   ]
  },
  {
   "cell_type": "code",
   "execution_count": 4,
   "metadata": {},
   "outputs": [
    {
     "name": "stdout",
     "output_type": "stream",
     "text": [
      "ROOT: <Element 'library' at 0x106d299a8>\n",
      "TAG: library\n",
      "ATTRIBUTES: {'location': 'Bremen'}\n",
      "ELEMENTS [<Element 'author' at 0x106e68ef8>, <Element 'author' at 0x106ec0778>, <Element 'author' at 0x106ec0818>]\n"
     ]
    }
   ],
   "source": [
    "print('ROOT:', root)\n",
    "print('TAG:', root.tag)\n",
    "print('ATTRIBUTES:', root.attrib)\n",
    "print('ELEMENTS', [element for element in root])"
   ]
  },
  {
   "cell_type": "markdown",
   "metadata": {},
   "source": [
    "find author elements that are children of the root node"
   ]
  },
  {
   "cell_type": "code",
   "execution_count": 5,
   "metadata": {},
   "outputs": [
    {
     "data": {
      "text/plain": [
       "[<Element 'author' at 0x106e68ef8>,\n",
       " <Element 'author' at 0x106ec0778>,\n",
       " <Element 'author' at 0x106ec0818>]"
      ]
     },
     "execution_count": 5,
     "metadata": {},
     "output_type": "execute_result"
    }
   ],
   "source": [
    "root.findall(\"./author\")"
   ]
  },
  {
   "cell_type": "markdown",
   "metadata": {},
   "source": [
    "find book elements anywhere in the tree under root"
   ]
  },
  {
   "cell_type": "code",
   "execution_count": 6,
   "metadata": {},
   "outputs": [
    {
     "data": {
      "text/plain": [
       "[<Element 'book' at 0x106ec0688>,\n",
       " <Element 'book' at 0x106ec0638>,\n",
       " <Element 'book' at 0x106ec0728>,\n",
       " <Element 'book' at 0x106ec07c8>,\n",
       " <Element 'book' at 0x106ec0868>,\n",
       " <Element 'book' at 0x106ec0908>]"
      ]
     },
     "execution_count": 6,
     "metadata": {},
     "output_type": "execute_result"
    }
   ],
   "source": [
    "root.findall(\".//book\")"
   ]
  },
  {
   "cell_type": "markdown",
   "metadata": {},
   "source": [
    "find attributes for all books "
   ]
  },
  {
   "cell_type": "code",
   "execution_count": 7,
   "metadata": {},
   "outputs": [
    {
     "data": {
      "text/plain": [
       "[{'title': 'Artificial Intelligence'},\n",
       " {'title': 'Modern Web Services'},\n",
       " {'title': 'Theory of Computation'},\n",
       " {'title': 'Artificial Intelligence'},\n",
       " {'title': 'The Semantic Web'},\n",
       " {'title': 'Browser Technology Revised'}]"
      ]
     },
     "execution_count": 7,
     "metadata": {},
     "output_type": "execute_result"
    }
   ],
   "source": [
    "[b.attrib for b in root.findall(\".//book\")]"
   ]
  },
  {
   "cell_type": "markdown",
   "metadata": {},
   "source": [
    "Find titles of all of the books in the library"
   ]
  },
  {
   "cell_type": "code",
   "execution_count": 8,
   "metadata": {},
   "outputs": [
    {
     "data": {
      "text/plain": [
       "['Artificial Intelligence',\n",
       " 'Modern Web Services',\n",
       " 'Theory of Computation',\n",
       " 'Artificial Intelligence',\n",
       " 'The Semantic Web',\n",
       " 'Browser Technology Revised']"
      ]
     },
     "execution_count": 8,
     "metadata": {},
     "output_type": "execute_result"
    }
   ],
   "source": [
    "[b.attrib['title'] for b in root.findall(\".//book\")]"
   ]
  },
  {
   "cell_type": "markdown",
   "metadata": {},
   "source": [
    "Find authors who have written a book with the title \"Artificial Intelligence\"?"
   ]
  },
  {
   "cell_type": "code",
   "execution_count": 9,
   "metadata": {},
   "outputs": [
    {
     "data": {
      "text/plain": [
       "[<Element 'author' at 0x106e68ef8>, <Element 'author' at 0x106ec0778>]"
      ]
     },
     "execution_count": 9,
     "metadata": {},
     "output_type": "execute_result"
    }
   ],
   "source": [
    "root.findall(\"./author/book/[@title='Artificial Intelligence']/..\")"
   ]
  },
  {
   "cell_type": "markdown",
   "metadata": {},
   "source": [
    "Find names of authors who have written a book with the title \"Artificial Intelligence\"?"
   ]
  },
  {
   "cell_type": "code",
   "execution_count": 10,
   "metadata": {},
   "outputs": [
    {
     "data": {
      "text/plain": [
       "['Henry Wise', 'William Smart']"
      ]
     },
     "execution_count": 10,
     "metadata": {},
     "output_type": "execute_result"
    }
   ],
   "source": [
    "[auth.attrib['name'] for auth in root.findall(\"./author/book/[@title='Artificial Intelligence']/..\")]"
   ]
  },
  {
   "cell_type": "code",
   "execution_count": null,
   "metadata": {},
   "outputs": [],
   "source": []
  }
 ],
 "metadata": {
  "kernelspec": {
   "display_name": "Python 3",
   "language": "python",
   "name": "python3"
  },
  "language_info": {
   "codemirror_mode": {
    "name": "ipython",
    "version": 3
   },
   "file_extension": ".py",
   "mimetype": "text/x-python",
   "name": "python",
   "nbconvert_exporter": "python",
   "pygments_lexer": "ipython3",
   "version": "3.7.0"
  }
 },
 "nbformat": 4,
 "nbformat_minor": 2
}
